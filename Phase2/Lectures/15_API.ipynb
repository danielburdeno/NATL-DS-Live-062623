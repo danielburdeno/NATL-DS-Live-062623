{
 "cells": [
  {
   "cell_type": "markdown",
   "metadata": {},
   "source": [
    "# Application Program Interfaces"
   ]
  },
  {
   "cell_type": "markdown",
   "metadata": {},
   "source": [
    "![](images/slurping_thru_api.jpeg)"
   ]
  },
  {
   "cell_type": "markdown",
   "metadata": {},
   "source": [
    "> Created by [@siscadraws](https://www.instagram.com/siscadraws/)"
   ]
  },
  {
   "cell_type": "code",
   "execution_count": 1,
   "metadata": {},
   "outputs": [],
   "source": [
    "import pandas as pd\n",
    "import requests\n",
    "import json"
   ]
  },
  {
   "cell_type": "markdown",
   "metadata": {
    "heading_collapsed": true
   },
   "source": [
    "# Objectives"
   ]
  },
  {
   "cell_type": "markdown",
   "metadata": {
    "hidden": true
   },
   "source": [
    "* Send requests and receive responses over the web\n",
    "* Retrieve data from APIs using the `requests` library\n",
    "* Parse API responses"
   ]
  },
  {
   "cell_type": "markdown",
   "metadata": {
    "heading_collapsed": true
   },
   "source": [
    "# APIs"
   ]
  },
  {
   "cell_type": "markdown",
   "metadata": {
    "hidden": true
   },
   "source": [
    "The term **Application Program Interfaces**, or APIs, is exceedingly general. It applies to any interaction between applications or between an application and a user. One might speak of the \"matplotlib API\" to describe proper plotting syntax but also of APIs that govern the interaction between various steps of a data pipeline: between a database server and a remote client, between a local machine and a cloud storage bucket, etc.\n",
    "\n",
    "APIs are commonly used to retrieve data from remote websites. Sites like Reddit, Twitter, and Facebook all offer certain data through their APIs. "
   ]
  },
  {
   "cell_type": "markdown",
   "metadata": {
    "heading_collapsed": true,
    "hidden": true
   },
   "source": [
    "## Overview of APIs"
   ]
  },
  {
   "cell_type": "markdown",
   "metadata": {
    "hidden": true
   },
   "source": [
    "An API communicates with another application:\n",
    "\n",
    "* Send request (with some info/data)\n",
    "* Get response\n",
    "    + data\n",
    "    + service\n",
    "\n",
    "\n",
    "It's always a software-to-software interaction"
   ]
  },
  {
   "cell_type": "markdown",
   "metadata": {
    "hidden": true
   },
   "source": [
    "![](images/web_api.png)\n",
    "> <a href=\"https://commons.wikimedia.org/wiki/File:Web_API.png\">Brivadeneira</a>, <a href=\"https://creativecommons.org/licenses/by-sa/4.0\">CC BY-SA 4.0</a>, via Wikimedia Commons"
   ]
  },
  {
   "cell_type": "markdown",
   "metadata": {
    "heading_collapsed": true,
    "hidden": true
   },
   "source": [
    "### Parts of an API"
   ]
  },
  {
   "cell_type": "markdown",
   "metadata": {
    "hidden": true
   },
   "source": [
    "* **Access Permissions**\n",
    "    + User allowed to ask?\n",
    "* **API Call/Request**\n",
    "    + Code used to make API call to implement complicated tasks/features\n",
    "    + *Methods*: what questions can we ask?\n",
    "    + *Parameters*: more info to be sent\n",
    "* **Repsonse**\n",
    "    + Result of request"
   ]
  },
  {
   "cell_type": "markdown",
   "metadata": {
    "heading_collapsed": true,
    "hidden": true
   },
   "source": [
    "## The `requests` Library and its `.get()` Method"
   ]
  },
  {
   "cell_type": "markdown",
   "metadata": {
    "hidden": true
   },
   "source": [
    "![](images/logo.png)"
   ]
  },
  {
   "cell_type": "markdown",
   "metadata": {
    "hidden": true
   },
   "source": [
    "To use an API, you make a request to a remote web server, and retrieve the data you need.\n",
    "\n",
    "We'll use the `requests` library to access web locations."
   ]
  },
  {
   "cell_type": "markdown",
   "metadata": {
    "hidden": true
   },
   "source": [
    "Below is how you would install and import the requests library before making any requests. \n",
    "```python\n",
    "# Uncomment and install requests if you dont have it already\n",
    "# conda install -c anaconda requests\n",
    "\n",
    "# Import requests to working environment\n",
    "import requests\n",
    "```"
   ]
  },
  {
   "cell_type": "markdown",
   "metadata": {
    "hidden": true
   },
   "source": [
    "-------"
   ]
  },
  {
   "cell_type": "markdown",
   "metadata": {
    "hidden": true
   },
   "source": [
    "Now that we have `requests` library ready in our working environment, we can start making some requests using the `.get()` method as shown below.\n",
    "\n",
    "We can use a GET request to retrieve information from the OpenNotify API."
   ]
  },
  {
   "cell_type": "code",
   "execution_count": 2,
   "metadata": {
    "hidden": true
   },
   "outputs": [],
   "source": [
    "# Make a get request to get the latest position of the\n",
    "# International Space Station (ISS) from the opennotify api.\n",
    "\n",
    "url = 'http://api.open-notify.org/iss-now.json'\n",
    "iss_response = requests.get(url)"
   ]
  },
  {
   "cell_type": "markdown",
   "metadata": {
    "hidden": true
   },
   "source": [
    "This creates a `Response` object containing the response that we received"
   ]
  },
  {
   "cell_type": "code",
   "execution_count": 3,
   "metadata": {
    "hidden": true
   },
   "outputs": [
    {
     "data": {
      "text/plain": [
       "requests.models.Response"
      ]
     },
     "execution_count": 3,
     "metadata": {},
     "output_type": "execute_result"
    }
   ],
   "source": [
    "type(iss_response)"
   ]
  },
  {
   "cell_type": "markdown",
   "metadata": {
    "hidden": true
   },
   "source": [
    "The `Response` object contains a bunch of information about the response we got from the server. For example, it includes the status code, which can be helpful for diagnosing request issues. 200 means OK - we'll discuss others later."
   ]
  },
  {
   "cell_type": "code",
   "execution_count": 4,
   "metadata": {
    "hidden": true
   },
   "outputs": [
    {
     "data": {
      "text/plain": [
       "200"
      ]
     },
     "execution_count": 4,
     "metadata": {},
     "output_type": "execute_result"
    }
   ],
   "source": [
    "iss_response.status_code"
   ]
  },
  {
   "cell_type": "markdown",
   "metadata": {
    "hidden": true
   },
   "source": [
    "The `Response` object also contains the data received from our request in the `content` attribute. "
   ]
  },
  {
   "cell_type": "code",
   "execution_count": 5,
   "metadata": {
    "hidden": true,
    "scrolled": true
   },
   "outputs": [
    {
     "data": {
      "text/plain": [
       "b'{\"timestamp\": 1690985979, \"iss_position\": {\"latitude\": \"-22.6480\", \"longitude\": \"-86.5445\"}, \"message\": \"success\"}'"
      ]
     },
     "execution_count": 5,
     "metadata": {},
     "output_type": "execute_result"
    }
   ],
   "source": [
    "iss_response.content"
   ]
  },
  {
   "cell_type": "code",
   "execution_count": 6,
   "metadata": {},
   "outputs": [
    {
     "data": {
      "text/plain": [
       "bytes"
      ]
     },
     "execution_count": 6,
     "metadata": {},
     "output_type": "execute_result"
    }
   ],
   "source": [
    "type(iss_response.content)"
   ]
  },
  {
   "cell_type": "markdown",
   "metadata": {
    "heading_collapsed": true,
    "hidden": true
   },
   "source": [
    "## Parsing JSON Responses"
   ]
  },
  {
   "cell_type": "markdown",
   "metadata": {
    "hidden": true
   },
   "source": [
    "OpenNotify has several API **endpoints**. An endpoint is a server route that is used to retrieve different data from the API. For example, the `/comments` endpoint on the Reddit API might retrieve information about comments, whereas the `/users` endpoint might retrieve data about users. To access them, you would add the endpoint to the base url of the API."
   ]
  },
  {
   "cell_type": "code",
   "execution_count": 7,
   "metadata": {
    "hidden": true
   },
   "outputs": [
    {
     "name": "stdout",
     "output_type": "stream",
     "text": [
      "200\n"
     ]
    }
   ],
   "source": [
    "# Let's check out who is in space right now!\n",
    "\n",
    "url = 'http://api.open-notify.org/astros.json'\n",
    "astro_response = requests.get(url)\n",
    "print(astro_response.status_code)"
   ]
  },
  {
   "cell_type": "code",
   "execution_count": 8,
   "metadata": {
    "hidden": true
   },
   "outputs": [
    {
     "data": {
      "text/plain": [
       "b'{\"number\": 10, \"people\": [{\"name\": \"Sergey Prokopyev\", \"craft\": \"ISS\"}, {\"name\": \"Dmitry Petelin\", \"craft\": \"ISS\"}, {\"name\": \"Frank Rubio\", \"craft\": \"ISS\"}, {\"name\": \"Stephen Bowen\", \"craft\": \"ISS\"}, {\"name\": \"Warren Hoburg\", \"craft\": \"ISS\"}, {\"name\": \"Sultan Alneyadi\", \"craft\": \"ISS\"}, {\"name\": \"Andrey Fedyaev\", \"craft\": \"ISS\"}, {\"name\": \"Jing Haiping\", \"craft\": \"Tiangong\"}, {\"name\": \"Gui Haichow\", \"craft\": \"Tiangong\"}, {\"name\": \"Zhu Yangzhu\", \"craft\": \"Tiangong\"}], \"message\": \"success\"}'"
      ]
     },
     "execution_count": 8,
     "metadata": {},
     "output_type": "execute_result"
    }
   ],
   "source": [
    "astro_response.content"
   ]
  },
  {
   "cell_type": "markdown",
   "metadata": {
    "hidden": true
   },
   "source": [
    "See the `b'` at the beginning? The `content` is stored in a \"byte literal\" format, not a Python dictionary."
   ]
  },
  {
   "cell_type": "code",
   "execution_count": 9,
   "metadata": {
    "hidden": true
   },
   "outputs": [
    {
     "data": {
      "text/plain": [
       "bytes"
      ]
     },
     "execution_count": 9,
     "metadata": {},
     "output_type": "execute_result"
    }
   ],
   "source": [
    "type(astro_response.content)"
   ]
  },
  {
   "cell_type": "markdown",
   "metadata": {
    "hidden": true
   },
   "source": [
    "We can look at the `text` attribute instead, but this still gives us a string, not a dictionary."
   ]
  },
  {
   "cell_type": "code",
   "execution_count": 10,
   "metadata": {
    "hidden": true
   },
   "outputs": [
    {
     "data": {
      "text/plain": [
       "'{\"number\": 10, \"people\": [{\"name\": \"Sergey Prokopyev\", \"craft\": \"ISS\"}, {\"name\": \"Dmitry Petelin\", \"craft\": \"ISS\"}, {\"name\": \"Frank Rubio\", \"craft\": \"ISS\"}, {\"name\": \"Stephen Bowen\", \"craft\": \"ISS\"}, {\"name\": \"Warren Hoburg\", \"craft\": \"ISS\"}, {\"name\": \"Sultan Alneyadi\", \"craft\": \"ISS\"}, {\"name\": \"Andrey Fedyaev\", \"craft\": \"ISS\"}, {\"name\": \"Jing Haiping\", \"craft\": \"Tiangong\"}, {\"name\": \"Gui Haichow\", \"craft\": \"Tiangong\"}, {\"name\": \"Zhu Yangzhu\", \"craft\": \"Tiangong\"}], \"message\": \"success\"}'"
      ]
     },
     "execution_count": 10,
     "metadata": {},
     "output_type": "execute_result"
    }
   ],
   "source": [
    "astro_response.text"
   ]
  },
  {
   "cell_type": "code",
   "execution_count": 11,
   "metadata": {
    "hidden": true
   },
   "outputs": [
    {
     "name": "stdout",
     "output_type": "stream",
     "text": [
      "{\"number\": 10, \"people\": [{\"name\": \"Sergey Prokopyev\", \"craft\": \"ISS\"}, {\"name\": \"Dmitry Petelin\", \"craft\": \"ISS\"}, {\"name\": \"Frank Rubio\", \"craft\": \"ISS\"}, {\"name\": \"Stephen Bowen\", \"craft\": \"ISS\"}, {\"name\": \"Warren Hoburg\", \"craft\": \"ISS\"}, {\"name\": \"Sultan Alneyadi\", \"craft\": \"ISS\"}, {\"name\": \"Andrey Fedyaev\", \"craft\": \"ISS\"}, {\"name\": \"Jing Haiping\", \"craft\": \"Tiangong\"}, {\"name\": \"Gui Haichow\", \"craft\": \"Tiangong\"}, {\"name\": \"Zhu Yangzhu\", \"craft\": \"Tiangong\"}], \"message\": \"success\"}\n",
      "<class 'str'>\n"
     ]
    }
   ],
   "source": [
    "print(astro_response.text)\n",
    "print(type(astro_response.text))"
   ]
  },
  {
   "cell_type": "markdown",
   "metadata": {
    "hidden": true
   },
   "source": [
    "To address this, we will use the `.json()` method to get a dictionary we can work with."
   ]
  },
  {
   "cell_type": "code",
   "execution_count": 12,
   "metadata": {
    "hidden": true
   },
   "outputs": [
    {
     "data": {
      "text/plain": [
       "dict_keys(['number', 'people', 'message'])"
      ]
     },
     "execution_count": 12,
     "metadata": {},
     "output_type": "execute_result"
    }
   ],
   "source": [
    "astro_data = astro_response.json()\n",
    "astro_data.keys()"
   ]
  },
  {
   "cell_type": "code",
   "execution_count": 13,
   "metadata": {},
   "outputs": [
    {
     "data": {
      "text/plain": [
       "{'number': 10,\n",
       " 'people': [{'name': 'Sergey Prokopyev', 'craft': 'ISS'},\n",
       "  {'name': 'Dmitry Petelin', 'craft': 'ISS'},\n",
       "  {'name': 'Frank Rubio', 'craft': 'ISS'},\n",
       "  {'name': 'Stephen Bowen', 'craft': 'ISS'},\n",
       "  {'name': 'Warren Hoburg', 'craft': 'ISS'},\n",
       "  {'name': 'Sultan Alneyadi', 'craft': 'ISS'},\n",
       "  {'name': 'Andrey Fedyaev', 'craft': 'ISS'},\n",
       "  {'name': 'Jing Haiping', 'craft': 'Tiangong'},\n",
       "  {'name': 'Gui Haichow', 'craft': 'Tiangong'},\n",
       "  {'name': 'Zhu Yangzhu', 'craft': 'Tiangong'}],\n",
       " 'message': 'success'}"
      ]
     },
     "execution_count": 13,
     "metadata": {},
     "output_type": "execute_result"
    }
   ],
   "source": [
    "astro_data"
   ]
  },
  {
   "cell_type": "markdown",
   "metadata": {
    "heading_collapsed": true,
    "hidden": true
   },
   "source": [
    "## Status Codes"
   ]
  },
  {
   "cell_type": "markdown",
   "metadata": {
    "hidden": true
   },
   "source": [
    "The request we make may not always be successful. The best way is to check the status code which gets returned with the response: `response.status_code`"
   ]
  },
  {
   "cell_type": "code",
   "execution_count": 14,
   "metadata": {
    "hidden": true
   },
   "outputs": [
    {
     "data": {
      "text/plain": [
       "200"
      ]
     },
     "execution_count": 14,
     "metadata": {},
     "output_type": "execute_result"
    }
   ],
   "source": [
    "astro_response.status_code"
   ]
  },
  {
   "cell_type": "markdown",
   "metadata": {
    "hidden": true
   },
   "source": [
    "[Status Code Info](https://developer.mozilla.org/en-US/docs/Web/HTTP/Status) <br/>\n",
    "[Status Code Info with Dogs](https://httpstatusdogs.com/) <br/>\n",
    "[Wikipedia on Status Codes](https://en.wikipedia.org/wiki/List_of_HTTP_status_codes)\n",
    "\n",
    "So this is a good check to see if our request was successful. Depending on the status of the web server, the access rights of the clients and availibility of requested information. A web server may return a number of status codes within the response. Wikipedia has an exhaustive details on all these codes."
   ]
  },
  {
   "cell_type": "markdown",
   "metadata": {
    "heading_collapsed": true,
    "hidden": true
   },
   "source": [
    "### Common status codes"
   ]
  },
  {
   "cell_type": "markdown",
   "metadata": {
    "hidden": true
   },
   "source": [
    "* 200 — everything went okay, and the result has been returned (if any)\n",
    "* 301 — the server is redirecting you to a different endpoint. This can happen when a company switches domain names, or an endpoint name is changed.\n",
    "* 401 — the server thinks you’re not authenticated. This happens when you don’t send the right credentials to access an API.\n",
    "* 400 — the server thinks you made a bad request. This can happen when you don’t send along the right data, among other things.\n",
    "* 403 — the resource you’re trying to access is forbidden — you don’t have the right permissions to see it.\n",
    "* 404 — the resource you tried to access wasn’t found on the server."
   ]
  },
  {
   "cell_type": "markdown",
   "metadata": {
    "heading_collapsed": true,
    "hidden": true
   },
   "source": [
    "### Hitting the right endpoint"
   ]
  },
  {
   "cell_type": "markdown",
   "metadata": {
    "hidden": true
   },
   "source": [
    "Let's look at another API.\n",
    "\n",
    "We’ll now make a GET request to the weather API [7timer](https://7timer.info):"
   ]
  },
  {
   "cell_type": "code",
   "execution_count": 15,
   "metadata": {},
   "outputs": [
    {
     "data": {
      "text/plain": [
       "200"
      ]
     },
     "execution_count": 15,
     "metadata": {},
     "output_type": "execute_result"
    }
   ],
   "source": [
    "weather_url = 'http://www.7timer.info/bin/api.pl'\n",
    "response = requests.get(weather_url)\n",
    "response.status_code"
   ]
  },
  {
   "cell_type": "markdown",
   "metadata": {},
   "source": [
    "Have we made a genuinely successful API call here?"
   ]
  },
  {
   "cell_type": "markdown",
   "metadata": {
    "hidden": true
   },
   "source": [
    "We can look at `content` to see if all is well."
   ]
  },
  {
   "cell_type": "code",
   "execution_count": 16,
   "metadata": {},
   "outputs": [
    {
     "data": {
      "text/plain": [
       "b'ERR: no parameters specified'"
      ]
     },
     "execution_count": 16,
     "metadata": {},
     "output_type": "execute_result"
    }
   ],
   "source": [
    "response.content"
   ]
  },
  {
   "cell_type": "markdown",
   "metadata": {
    "hidden": true
   },
   "source": [
    "We're told here that we need to specify extra parameters. (Other APIs won't even return a 200 code when parameters are missing.)"
   ]
  },
  {
   "cell_type": "markdown",
   "metadata": {
    "heading_collapsed": true,
    "hidden": true
   },
   "source": [
    "## Query Parameters"
   ]
  },
  {
   "cell_type": "markdown",
   "metadata": {
    "hidden": true
   },
   "source": [
    "If you look at the [documentation](http://www.7timer.info/doc.php?lang=en), we see that the 7Timer endpoint requires four parameters.\n",
    "\n",
    "We can do this by adding an optional keyword argument, params, to our request. In this case, there are four parameters we need to pass:\n",
    "\n",
    "* lon — The longitude of the location we want.\n",
    "* lat — The latitude of the location we want.\n",
    "* product - The type of weather report we want\n",
    "* output - The type of output we'd like to receive.\n",
    "\n",
    "We can make a dictionary with these parameters, and then pass them into the `requests.get()` method. We’ll make a request using the coordinates of New York City, and see what response we get.\n",
    "\n",
    "We can also add the query parameters to the url, like this: http://www.7timer.info/bin/api.pl?lon=-122.3&lat=47.6&product=astro&output=json. However, it’s almost always preferable to pass the parameters as a dictionary, because `requests` takes care of some potential issues, like properly formatting the query parameters."
   ]
  },
  {
   "cell_type": "markdown",
   "metadata": {
    "hidden": true
   },
   "source": [
    "We'll add parameters to the get method in the form of a dictionary with four keys, lat, long, product, and output."
   ]
  },
  {
   "cell_type": "code",
   "execution_count": 17,
   "metadata": {
    "hidden": true,
    "scrolled": true
   },
   "outputs": [
    {
     "name": "stdout",
     "output_type": "stream",
     "text": [
      "{\n",
      "\t\"product\" : \"astro\" ,\n",
      "\t\"init\" : \"2023080206\" ,\n",
      "\t\"dataseries\" : [\n",
      "\t{\n",
      "\t\t\"timepoint\" : 3,\n",
      "\t\t\"cloudcover\" : 1,\n",
      "\t\t\"seeing\" : 6,\n",
      "\t\t\"transparency\" : 3,\n",
      "\t\t\"lifted_index\" : 10,\n",
      "\t\t\"rh2m\" : 13,\n",
      "\t\t\"wind10m\" : {\n",
      "\t\t\t\"direction\" : \"NE\",\n",
      "\t\t\t\"speed\" : 2\n",
      "\t\t},\n",
      "\t\t\"temp2m\" : 11,\n",
      "\t\t\"prec_type\" : \"none\"\n",
      "\t},\n",
      "\t{\n",
      "\t\t\"timepoint\" : 6,\n",
      "\t\t\"cloudcover\" : 1,\n",
      "\t\t\"seeing\" : 6,\n",
      "\t\t\"transparency\" : 3,\n",
      "\t\t\"lifted_index\" : 15,\n",
      "\t\t\"rh2m\" : 12,\n",
      "\t\t\"wind10m\" : {\n",
      "\t\t\t\"direction\" : \"NE\",\n",
      "\t\t\t\"speed\" : 2\n",
      "\t\t},\n",
      "\t\t\"temp2m\" : 10,\n",
      "\t\t\"prec_type\" : \"none\"\n",
      "\t},\n",
      "\t{\n",
      "\t\t\"timepoint\" : 9,\n",
      "\t\t\"cloudcover\" : 1,\n",
      "\t\t\"seeing\" : 2,\n",
      "\t\t\"transparency\" : 3,\n",
      "\t\t\"lifted_index\" : 10,\n",
      "\t\t\"rh2m\" : 7,\n",
      "\t\t\"wind10m\" : {\n",
      "\t\t\t\"direction\" : \"E\",\n",
      "\t\t\t\"speed\" : 2\n",
      "\t\t},\n",
      "\t\t\"temp2m\" : 16,\n",
      "\t\t\"prec_type\" : \"none\"\n",
      "\t},\n",
      "\t{\n",
      "\t\t\"timepoint\" : 12,\n",
      "\t\t\"cloudcover\" : 1,\n",
      "\t\t\"seeing\" : 2,\n",
      "\t\t\"transparency\" : 2,\n",
      "\t\t\"lifted_index\" : 6,\n",
      "\t\t\"rh2m\" : 3,\n",
      "\t\t\"wind10m\" : {\n",
      "\t\t\t\"direction\" : \"NW\",\n",
      "\t\t\t\"speed\" : 2\n",
      "\t\t},\n",
      "\t\t\"temp2m\" : 26,\n",
      "\t\t\"prec_type\" : \"none\"\n",
      "\t},\n",
      "\t{\n",
      "\t\t\"timepoint\" : 15,\n",
      "\t\t\"cloudcover\" : 1,\n",
      "\t\t\"seeing\" : 2,\n",
      "\t\t\"transparency\" : 2,\n",
      "\t\t\"lifted_index\" : 6,\n",
      "\t\t\"rh2m\" : 1,\n",
      "\t\t\"wind10m\" : {\n",
      "\t\t\t\"direction\" : \"N\",\n",
      "\t\t\t\"speed\" : 2\n",
      "\t\t},\n",
      "\t\t\"temp2m\" : 27,\n",
      "\t\t\"prec_type\" : \"none\"\n",
      "\t},\n",
      "\t{\n",
      "\t\t\"timepoint\" : 18,\n",
      "\t\t\"cloudcover\" : 1,\n",
      "\t\t\"seeing\" : 2,\n",
      "\t\t\"transparency\" : 2,\n",
      "\t\t\"lifted_index\" : 6,\n",
      "\t\t\"rh2m\" : 1,\n",
      "\t\t\"wind10m\" : {\n",
      "\t\t\t\"direction\" : \"N\",\n",
      "\t\t\t\"speed\" : 3\n",
      "\t\t},\n",
      "\t\t\"temp2m\" : 24,\n",
      "\t\t\"prec_type\" : \"none\"\n",
      "\t},\n",
      "\t{\n",
      "\t\t\"timepoint\" : 21,\n",
      "\t\t\"cloudcover\" : 1,\n",
      "\t\t\"seeing\" : 4,\n",
      "\t\t\"transparency\" : 2,\n",
      "\t\t\"lifted_index\" : 6,\n",
      "\t\t\"rh2m\" : 5,\n",
      "\t\t\"wind10m\" : {\n",
      "\t\t\t\"direction\" : \"N\",\n",
      "\t\t\t\"speed\" : 3\n",
      "\t\t},\n",
      "\t\t\"temp2m\" : 16,\n",
      "\t\t\"prec_type\" : \"none\"\n",
      "\t},\n",
      "\t{\n",
      "\t\t\"timepoint\" : 24,\n",
      "\t\t\"cloudcover\" : 1,\n",
      "\t\t\"seeing\" : 6,\n",
      "\t\t\"transparency\" : 3,\n",
      "\t\t\"lifted_index\" : 15,\n",
      "\t\t\"rh2m\" : 12,\n",
      "\t\t\"wind10m\" : {\n",
      "\t\t\t\"direction\" : \"NE\",\n",
      "\t\t\t\"speed\" : 2\n",
      "\t\t},\n",
      "\t\t\"temp2m\" : 13,\n",
      "\t\t\"prec_type\" : \"none\"\n",
      "\t},\n",
      "\t{\n",
      "\t\t\"timepoint\" : 27,\n",
      "\t\t\"cloudcover\" : 1,\n",
      "\t\t\"seeing\" : 6,\n",
      "\t\t\"transparency\" : 4,\n",
      "\t\t\"lifted_index\" : 15,\n",
      "\t\t\"rh2m\" : 13,\n",
      "\t\t\"wind10m\" : {\n",
      "\t\t\t\"direction\" : \"E\",\n",
      "\t\t\t\"speed\" : 2\n",
      "\t\t},\n",
      "\t\t\"temp2m\" : 11,\n",
      "\t\t\"prec_type\" : \"none\"\n",
      "\t},\n",
      "\t{\n",
      "\t\t\"timepoint\" : 30,\n",
      "\t\t\"cloudcover\" : 1,\n",
      "\t\t\"seeing\" : 6,\n",
      "\t\t\"transparency\" : 4,\n",
      "\t\t\"lifted_index\" : 15,\n",
      "\t\t\"rh2m\" : 14,\n",
      "\t\t\"wind10m\" : {\n",
      "\t\t\t\"direction\" : \"E\",\n",
      "\t\t\t\"speed\" : 2\n",
      "\t\t},\n",
      "\t\t\"temp2m\" : 10,\n",
      "\t\t\"prec_type\" : \"none\"\n",
      "\t},\n",
      "\t{\n",
      "\t\t\"timepoint\" : 33,\n",
      "\t\t\"cloudcover\" : 1,\n",
      "\t\t\"seeing\" : 2,\n",
      "\t\t\"transparency\" : 3,\n",
      "\t\t\"lifted_index\" : 10,\n",
      "\t\t\"rh2m\" : 9,\n",
      "\t\t\"wind10m\" : {\n",
      "\t\t\t\"direction\" : \"NE\",\n",
      "\t\t\t\"speed\" : 2\n",
      "\t\t},\n",
      "\t\t\"temp2m\" : 16,\n",
      "\t\t\"prec_type\" : \"none\"\n",
      "\t},\n",
      "\t{\n",
      "\t\t\"timepoint\" : 36,\n",
      "\t\t\"cloudcover\" : 1,\n",
      "\t\t\"seeing\" : 2,\n",
      "\t\t\"transparency\" : 2,\n",
      "\t\t\"lifted_index\" : 6,\n",
      "\t\t\"rh2m\" : 4,\n",
      "\t\t\"wind10m\" : {\n",
      "\t\t\t\"direction\" : \"NW\",\n",
      "\t\t\t\"speed\" : 2\n",
      "\t\t},\n",
      "\t\t\"temp2m\" : 23,\n",
      "\t\t\"prec_type\" : \"none\"\n",
      "\t},\n",
      "\t{\n",
      "\t\t\"timepoint\" : 39,\n",
      "\t\t\"cloudcover\" : 1,\n",
      "\t\t\"seeing\" : 2,\n",
      "\t\t\"transparency\" : 2,\n",
      "\t\t\"lifted_index\" : 6,\n",
      "\t\t\"rh2m\" : 2,\n",
      "\t\t\"wind10m\" : {\n",
      "\t\t\t\"direction\" : \"NW\",\n",
      "\t\t\t\"speed\" : 3\n",
      "\t\t},\n",
      "\t\t\"temp2m\" : 25,\n",
      "\t\t\"prec_type\" : \"none\"\n",
      "\t},\n",
      "\t{\n",
      "\t\t\"timepoint\" : 42,\n",
      "\t\t\"cloudcover\" : 1,\n",
      "\t\t\"seeing\" : 2,\n",
      "\t\t\"transparency\" : 2,\n",
      "\t\t\"lifted_index\" : 6,\n",
      "\t\t\"rh2m\" : 2,\n",
      "\t\t\"wind10m\" : {\n",
      "\t\t\t\"direction\" : \"NW\",\n",
      "\t\t\t\"speed\" : 3\n",
      "\t\t},\n",
      "\t\t\"temp2m\" : 25,\n",
      "\t\t\"prec_type\" : \"none\"\n",
      "\t},\n",
      "\t{\n",
      "\t\t\"timepoint\" : 45,\n",
      "\t\t\"cloudcover\" : 1,\n",
      "\t\t\"seeing\" : 5,\n",
      "\t\t\"transparency\" : 2,\n",
      "\t\t\"lifted_index\" : 6,\n",
      "\t\t\"rh2m\" : 6,\n",
      "\t\t\"wind10m\" : {\n",
      "\t\t\t\"direction\" : \"N\",\n",
      "\t\t\t\"speed\" : 2\n",
      "\t\t},\n",
      "\t\t\"temp2m\" : 17,\n",
      "\t\t\"prec_type\" : \"none\"\n",
      "\t},\n",
      "\t{\n",
      "\t\t\"timepoint\" : 48,\n",
      "\t\t\"cloudcover\" : 1,\n",
      "\t\t\"seeing\" : 5,\n",
      "\t\t\"transparency\" : 3,\n",
      "\t\t\"lifted_index\" : 10,\n",
      "\t\t\"rh2m\" : 12,\n",
      "\t\t\"wind10m\" : {\n",
      "\t\t\t\"direction\" : \"NE\",\n",
      "\t\t\t\"speed\" : 2\n",
      "\t\t},\n",
      "\t\t\"temp2m\" : 12,\n",
      "\t\t\"prec_type\" : \"none\"\n",
      "\t},\n",
      "\t{\n",
      "\t\t\"timepoint\" : 51,\n",
      "\t\t\"cloudcover\" : 1,\n",
      "\t\t\"seeing\" : 6,\n",
      "\t\t\"transparency\" : 3,\n",
      "\t\t\"lifted_index\" : 15,\n",
      "\t\t\"rh2m\" : 12,\n",
      "\t\t\"wind10m\" : {\n",
      "\t\t\t\"direction\" : \"E\",\n",
      "\t\t\t\"speed\" : 2\n",
      "\t\t},\n",
      "\t\t\"temp2m\" : 11,\n",
      "\t\t\"prec_type\" : \"none\"\n",
      "\t},\n",
      "\t{\n",
      "\t\t\"timepoint\" : 54,\n",
      "\t\t\"cloudcover\" : 1,\n",
      "\t\t\"seeing\" : 6,\n",
      "\t\t\"transparency\" : 3,\n",
      "\t\t\"lifted_index\" : 15,\n",
      "\t\t\"rh2m\" : 13,\n",
      "\t\t\"wind10m\" : {\n",
      "\t\t\t\"direction\" : \"E\",\n",
      "\t\t\t\"speed\" : 2\n",
      "\t\t},\n",
      "\t\t\"temp2m\" : 11,\n",
      "\t\t\"prec_type\" : \"none\"\n",
      "\t},\n",
      "\t{\n",
      "\t\t\"timepoint\" : 57,\n",
      "\t\t\"cloudcover\" : 1,\n",
      "\t\t\"seeing\" : 2,\n",
      "\t\t\"transparency\" : 3,\n",
      "\t\t\"lifted_index\" : 10,\n",
      "\t\t\"rh2m\" : 8,\n",
      "\t\t\"wind10m\" : {\n",
      "\t\t\t\"direction\" : \"NE\",\n",
      "\t\t\t\"speed\" : 2\n",
      "\t\t},\n",
      "\t\t\"temp2m\" : 16,\n",
      "\t\t\"prec_type\" : \"none\"\n",
      "\t},\n",
      "\t{\n",
      "\t\t\"timepoint\" : 60,\n",
      "\t\t\"cloudcover\" : 1,\n",
      "\t\t\"seeing\" : 2,\n",
      "\t\t\"transparency\" : 2,\n",
      "\t\t\"lifted_index\" : 6,\n",
      "\t\t\"rh2m\" : 4,\n",
      "\t\t\"wind10m\" : {\n",
      "\t\t\t\"direction\" : \"NW\",\n",
      "\t\t\t\"speed\" : 2\n",
      "\t\t},\n",
      "\t\t\"temp2m\" : 25,\n",
      "\t\t\"prec_type\" : \"none\"\n",
      "\t},\n",
      "\t{\n",
      "\t\t\"timepoint\" : 63,\n",
      "\t\t\"cloudcover\" : 4,\n",
      "\t\t\"seeing\" : 2,\n",
      "\t\t\"transparency\" : 2,\n",
      "\t\t\"lifted_index\" : 6,\n",
      "\t\t\"rh2m\" : 1,\n",
      "\t\t\"wind10m\" : {\n",
      "\t\t\t\"direction\" : \"NW\",\n",
      "\t\t\t\"speed\" : 2\n",
      "\t\t},\n",
      "\t\t\"temp2m\" : 25,\n",
      "\t\t\"prec_type\" : \"none\"\n",
      "\t},\n",
      "\t{\n",
      "\t\t\"timepoint\" : 66,\n",
      "\t\t\"cloudcover\" : 6,\n",
      "\t\t\"seeing\" : 2,\n",
      "\t\t\"transparency\" : 2,\n",
      "\t\t\"lifted_index\" : 6,\n",
      "\t\t\"rh2m\" : 1,\n",
      "\t\t\"wind10m\" : {\n",
      "\t\t\t\"direction\" : \"NW\",\n",
      "\t\t\t\"speed\" : 3\n",
      "\t\t},\n",
      "\t\t\"temp2m\" : 25,\n",
      "\t\t\"prec_type\" : \"none\"\n",
      "\t},\n",
      "\t{\n",
      "\t\t\"timepoint\" : 69,\n",
      "\t\t\"cloudcover\" : 9,\n",
      "\t\t\"seeing\" : 5,\n",
      "\t\t\"transparency\" : 2,\n",
      "\t\t\"lifted_index\" : 6,\n",
      "\t\t\"rh2m\" : 6,\n",
      "\t\t\"wind10m\" : {\n",
      "\t\t\t\"direction\" : \"NE\",\n",
      "\t\t\t\"speed\" : 2\n",
      "\t\t},\n",
      "\t\t\"temp2m\" : 18,\n",
      "\t\t\"prec_type\" : \"none\"\n",
      "\t},\n",
      "\t{\n",
      "\t\t\"timepoint\" : 72,\n",
      "\t\t\"cloudcover\" : 9,\n",
      "\t\t\"seeing\" : 5,\n",
      "\t\t\"transparency\" : 3,\n",
      "\t\t\"lifted_index\" : 10,\n",
      "\t\t\"rh2m\" : 11,\n",
      "\t\t\"wind10m\" : {\n",
      "\t\t\t\"direction\" : \"NE\",\n",
      "\t\t\t\"speed\" : 2\n",
      "\t\t},\n",
      "\t\t\"temp2m\" : 12,\n",
      "\t\t\"prec_type\" : \"none\"\n",
      "\t}\n",
      "\t]\n",
      "}\n",
      "\n"
     ]
    }
   ],
   "source": [
    "# Our code here\n",
    "\n",
    "response = requests.get(weather_url,\n",
    "            params={'lat': 47.6, 'lon': -122.3,\n",
    "                   'product': 'astro', 'output': 'json'})\n",
    "\n",
    "# Print the content of the response (the data the server returned)\n",
    "\n",
    "print(response.text)\n",
    "\n",
    "# This gets the same data as the command above:\n",
    "# requests.get(\" http://www.7timer.info/bin/api.pl?lon=-122.3&lat=47.6&product=astro&output=json.\")"
   ]
  },
  {
   "cell_type": "code",
   "execution_count": null,
   "metadata": {},
   "outputs": [],
   "source": [
    "requests.get(\"http://www.7timer.info/bin/api.pl?lon=-122.3&lat=47.6&product=astro&output=json.\")"
   ]
  },
  {
   "cell_type": "markdown",
   "metadata": {
    "heading_collapsed": true
   },
   "source": [
    "# Secure APIs: Generating Access Tokens"
   ]
  },
  {
   "cell_type": "markdown",
   "metadata": {
    "hidden": true
   },
   "source": [
    "Many APIs have security measures to make sure their APIs aren't abused. Let's show you how to generate an access token so you can use such secure APIs.\n",
    "\n",
    "Point your browser over to this [yelp page](https://www.yelp.com/developers/v3/manage_app) and start creating an app in order to obtain an api access token:"
   ]
  },
  {
   "cell_type": "markdown",
   "metadata": {
    "hidden": true
   },
   "source": [
    "\n",
    "![](./images/yelp_app.png)"
   ]
  },
  {
   "cell_type": "markdown",
   "metadata": {
    "hidden": true
   },
   "source": [
    "You can either sign in to an existing Yelp account, or create a new one, if needed.\n",
    "\n",
    "On the page you see above, simply fill out some sample information such as \"Flatiron Edu API Example\" for the app name, or whatever floats your boat. Afterwards, you should be presented with an API key that you can use to make requests.\n",
    "\n",
    "With that, it's time to start making some API calls!"
   ]
  },
  {
   "cell_type": "markdown",
   "metadata": {
    "heading_collapsed": true,
    "hidden": true
   },
   "source": [
    "## An Example Request with OAuth "
   ]
  },
  {
   "cell_type": "markdown",
   "metadata": {
    "hidden": true
   },
   "source": [
    "[OAuth](https://en.wikipedia.org/wiki/OAuth) is a common standard used by companies to provide API access. \"Auth\" refers to two processes:\n",
    "\n",
    "* Authentication: Verifying your identity\n",
    "* Authorization: Giving you access to a resource"
   ]
  },
  {
   "cell_type": "markdown",
   "metadata": {
    "heading_collapsed": true,
    "hidden": true
   },
   "source": [
    "## Storing your API Key Securely"
   ]
  },
  {
   "cell_type": "markdown",
   "metadata": {
    "hidden": true
   },
   "source": [
    "Handling your security credentials properly will avoid accidentally exposing them to people who might use them for malicious purposes. While you probably can't get in too much trouble with Yelp, it's a good practice to develop. It becomes especially tricky and important when using public Git repositories. Here are the steps we recommend: \n",
    "\n",
    "1. Create a hidden `.secrets` folder in your repository\n",
    "2. Put your credentials in a file in the `.secrets` folder\n",
    "3. Add the `.secrets/` folder to the `.gitignore` file"
   ]
  },
  {
   "cell_type": "markdown",
   "metadata": {
    "heading_collapsed": true,
    "hidden": true
   },
   "source": [
    "### Step 1 - Create a hidden `.secrets` folder in your repository"
   ]
  },
  {
   "cell_type": "markdown",
   "metadata": {
    "hidden": true
   },
   "source": [
    "> We'll need to create this folder `.secrets`. Note this will create a hidden folder. Also note that we're using this name but it really could be whatever you want it to be as long as you're consistent"
   ]
  },
  {
   "cell_type": "markdown",
   "metadata": {
    "hidden": true
   },
   "source": [
    "You can run this in the terminal (assuming we're in the repo folder)\n",
    "\n",
    "```bash\n",
    "mkdir .secrets\n",
    "```"
   ]
  },
  {
   "cell_type": "code",
   "execution_count": 18,
   "metadata": {
    "hidden": true
   },
   "outputs": [
    {
     "name": "stdout",
     "output_type": "stream",
     "text": [
      "/Users/danielburdeno/Desktop/Flatiron/Cohort_Repos/NATL-DS-Live-062623/Phase2/Lectures\r\n"
     ]
    }
   ],
   "source": [
    "# Let's check we're in the right place\n",
    "!pwd"
   ]
  },
  {
   "cell_type": "code",
   "execution_count": 19,
   "metadata": {
    "hidden": true
   },
   "outputs": [
    {
     "name": "stdout",
     "output_type": "stream",
     "text": [
      "\u001b[34m.\u001b[m\u001b[m\r\n",
      "\u001b[34m..\u001b[m\u001b[m\r\n",
      ".DS_Store\r\n",
      "\u001b[34m.ipynb_checkpoints\u001b[m\u001b[m\r\n",
      "00 - Phase 2 Introduction - DS Live 062623.pdf\r\n",
      "01_SQL_Queries.ipynb\r\n",
      "02_SQL_Joins.ipynb\r\n",
      "03_SQL_Subqueries.ipynb\r\n",
      "04_Probability_and_Bayes.ipynb\r\n",
      "05_Distributions_Sampling.ipynb\r\n",
      "06_NormalDistributions.ipynb\r\n",
      "07_ConstructingConfidenceIntervals.ipynb\r\n",
      "08_ZTests_Hypothesis_testing.ipynb\r\n",
      "09_Ttests_Hypothesis_testing.ipynb\r\n",
      "10_ANOVA_Hypothesis_testing.ipynb\r\n",
      "11_Chi_Squared_Hypo_testing.ipynb\r\n",
      "12_AB_testing.ipynb\r\n",
      "13_AB_testing_2.ipynb\r\n",
      "14.2_Lin_Reg_Assumptions.ipynb\r\n",
      "14_Simple_Linear_Regression_statsmodels.ipynb\r\n",
      "15.2_Webscrapping.ipynb\r\n",
      "15_API.ipynb\r\n",
      "16-P2-Code-Challenge-Review.ipynb\r\n",
      "\u001b[34m__pycache__\u001b[m\u001b[m\r\n",
      "\u001b[34mdata\u001b[m\u001b[m\r\n",
      "\u001b[34mimages\u001b[m\u001b[m\r\n",
      "lin_reg.py\r\n",
      "\u001b[34msrc\u001b[m\u001b[m\r\n"
     ]
    }
   ],
   "source": [
    "# Now we check if the directory is already made\n",
    "!ls -a"
   ]
  },
  {
   "cell_type": "code",
   "execution_count": 20,
   "metadata": {
    "hidden": true
   },
   "outputs": [],
   "source": [
    "# Finally we can make the directory\n",
    "!mkdir .secrets"
   ]
  },
  {
   "cell_type": "code",
   "execution_count": 21,
   "metadata": {
    "hidden": true
   },
   "outputs": [
    {
     "name": "stdout",
     "output_type": "stream",
     "text": [
      "\u001b[34m.\u001b[m\u001b[m\r\n",
      "\u001b[34m..\u001b[m\u001b[m\r\n",
      ".DS_Store\r\n",
      "\u001b[34m.ipynb_checkpoints\u001b[m\u001b[m\r\n",
      "\u001b[34m.secrets\u001b[m\u001b[m\r\n",
      "00 - Phase 2 Introduction - DS Live 062623.pdf\r\n",
      "01_SQL_Queries.ipynb\r\n",
      "02_SQL_Joins.ipynb\r\n",
      "03_SQL_Subqueries.ipynb\r\n",
      "04_Probability_and_Bayes.ipynb\r\n",
      "05_Distributions_Sampling.ipynb\r\n",
      "06_NormalDistributions.ipynb\r\n",
      "07_ConstructingConfidenceIntervals.ipynb\r\n",
      "08_ZTests_Hypothesis_testing.ipynb\r\n",
      "09_Ttests_Hypothesis_testing.ipynb\r\n",
      "10_ANOVA_Hypothesis_testing.ipynb\r\n",
      "11_Chi_Squared_Hypo_testing.ipynb\r\n",
      "12_AB_testing.ipynb\r\n",
      "13_AB_testing_2.ipynb\r\n",
      "14.2_Lin_Reg_Assumptions.ipynb\r\n",
      "14_Simple_Linear_Regression_statsmodels.ipynb\r\n",
      "15.2_Webscrapping.ipynb\r\n",
      "15_API.ipynb\r\n",
      "16-P2-Code-Challenge-Review.ipynb\r\n",
      "\u001b[34m__pycache__\u001b[m\u001b[m\r\n",
      "\u001b[34mdata\u001b[m\u001b[m\r\n",
      "\u001b[34mimages\u001b[m\u001b[m\r\n",
      "lin_reg.py\r\n",
      "\u001b[34msrc\u001b[m\u001b[m\r\n"
     ]
    }
   ],
   "source": [
    "# And we check if the directory is made\n",
    "!ls -a"
   ]
  },
  {
   "cell_type": "markdown",
   "metadata": {
    "heading_collapsed": true,
    "hidden": true
   },
   "source": [
    "### Step 2 - Put your credentials in a file in the `.secrets` folder"
   ]
  },
  {
   "cell_type": "markdown",
   "metadata": {
    "hidden": true
   },
   "source": [
    "> Next we need to create the credentials file and move it into the `.secrets/` folder. It's easiest to do this with the command line (since the folder is hidden)"
   ]
  },
  {
   "cell_type": "markdown",
   "metadata": {
    "hidden": true
   },
   "source": [
    "To create the file, we can simply create a new file using an editor or even Jupyter Notebook."
   ]
  },
  {
   "cell_type": "markdown",
   "metadata": {
    "hidden": true
   },
   "source": [
    "We can also create this with the command line:\n",
    "\n",
    "```shell\n",
    "echo '{ \"id\": \"<ID>\", \"key\": \"<KEY>\" }' > creds.json\n",
    "```\n",
    "\n",
    "Where `<ID>` and  `<KEY>` are the Client ID and API Key respectively. (Note the the values need quotations around it)"
   ]
  },
  {
   "cell_type": "code",
   "execution_count": 22,
   "metadata": {
    "hidden": true
   },
   "outputs": [],
   "source": [
    "# Uncommment and run this after replacing <ID> and <KEY>\n",
    "# Note this will overwrite any previous file called creds.json\n",
    "!echo '{ \"id\": \"g0c-y7BAReLv0wMtT9JGzA\", \"key\": \"KvUuSIpStqkwvmC8jZQRYDAvlhr_pCA0p_KrDLh4JK2HBZU0HhsSadLWSQiYzfFt4oRYjwtBLli05mrtjj9d_zAf6vs8WyAgQfjyRk2_rvGuwHI5RLZHbuuikBg3Y3Yx\" }' > creds.json"
   ]
  },
  {
   "cell_type": "markdown",
   "metadata": {
    "hidden": true
   },
   "source": [
    "To move the file via the command line, it's easiest if you first move the credentials file into the repo's folder first (if it's not already there).\n",
    "\n",
    "Once you do that, you can run this command below."
   ]
  },
  {
   "cell_type": "code",
   "execution_count": 23,
   "metadata": {
    "hidden": true
   },
   "outputs": [
    {
     "name": "stdout",
     "output_type": "stream",
     "text": [
      "\u001b[34m.\u001b[m\u001b[m\r\n",
      "\u001b[34m..\u001b[m\u001b[m\r\n",
      ".DS_Store\r\n",
      "\u001b[34m.ipynb_checkpoints\u001b[m\u001b[m\r\n",
      "\u001b[34m.secrets\u001b[m\u001b[m\r\n",
      "00 - Phase 2 Introduction - DS Live 062623.pdf\r\n",
      "01_SQL_Queries.ipynb\r\n",
      "02_SQL_Joins.ipynb\r\n",
      "03_SQL_Subqueries.ipynb\r\n",
      "04_Probability_and_Bayes.ipynb\r\n",
      "05_Distributions_Sampling.ipynb\r\n",
      "06_NormalDistributions.ipynb\r\n",
      "07_ConstructingConfidenceIntervals.ipynb\r\n",
      "08_ZTests_Hypothesis_testing.ipynb\r\n",
      "09_Ttests_Hypothesis_testing.ipynb\r\n",
      "10_ANOVA_Hypothesis_testing.ipynb\r\n",
      "11_Chi_Squared_Hypo_testing.ipynb\r\n",
      "12_AB_testing.ipynb\r\n",
      "13_AB_testing_2.ipynb\r\n",
      "14.2_Lin_Reg_Assumptions.ipynb\r\n",
      "14_Simple_Linear_Regression_statsmodels.ipynb\r\n",
      "15.2_Webscrapping.ipynb\r\n",
      "15_API.ipynb\r\n",
      "16-P2-Code-Challenge-Review.ipynb\r\n",
      "\u001b[34m__pycache__\u001b[m\u001b[m\r\n",
      "creds.json\r\n",
      "\u001b[34mdata\u001b[m\u001b[m\r\n",
      "\u001b[34mimages\u001b[m\u001b[m\r\n",
      "lin_reg.py\r\n",
      "\u001b[34msrc\u001b[m\u001b[m\r\n"
     ]
    }
   ],
   "source": [
    "# Make sure the .secrets folder and credentials file are there\n",
    "!ls -a"
   ]
  },
  {
   "cell_type": "code",
   "execution_count": 24,
   "metadata": {
    "hidden": true
   },
   "outputs": [],
   "source": [
    "# Move the credentials file (creds.json) into the .secrets/ folder\n",
    "# Note you might need to change the name in this command to match the file name\n",
    "!mv creds.json .secrets/"
   ]
  },
  {
   "cell_type": "code",
   "execution_count": 25,
   "metadata": {
    "hidden": true
   },
   "outputs": [
    {
     "name": "stdout",
     "output_type": "stream",
     "text": [
      "\u001b[34m.\u001b[m\u001b[m\r\n",
      "\u001b[34m..\u001b[m\u001b[m\r\n",
      ".DS_Store\r\n",
      "\u001b[34m.ipynb_checkpoints\u001b[m\u001b[m\r\n",
      "\u001b[34m.secrets\u001b[m\u001b[m\r\n",
      "00 - Phase 2 Introduction - DS Live 062623.pdf\r\n",
      "01_SQL_Queries.ipynb\r\n",
      "02_SQL_Joins.ipynb\r\n",
      "03_SQL_Subqueries.ipynb\r\n",
      "04_Probability_and_Bayes.ipynb\r\n",
      "05_Distributions_Sampling.ipynb\r\n",
      "06_NormalDistributions.ipynb\r\n",
      "07_ConstructingConfidenceIntervals.ipynb\r\n",
      "08_ZTests_Hypothesis_testing.ipynb\r\n",
      "09_Ttests_Hypothesis_testing.ipynb\r\n",
      "10_ANOVA_Hypothesis_testing.ipynb\r\n",
      "11_Chi_Squared_Hypo_testing.ipynb\r\n",
      "12_AB_testing.ipynb\r\n",
      "13_AB_testing_2.ipynb\r\n",
      "14.2_Lin_Reg_Assumptions.ipynb\r\n",
      "14_Simple_Linear_Regression_statsmodels.ipynb\r\n",
      "15.2_Webscrapping.ipynb\r\n",
      "15_API.ipynb\r\n",
      "16-P2-Code-Challenge-Review.ipynb\r\n",
      "\u001b[34m__pycache__\u001b[m\u001b[m\r\n",
      "\u001b[34mdata\u001b[m\u001b[m\r\n",
      "\u001b[34mimages\u001b[m\u001b[m\r\n",
      "lin_reg.py\r\n",
      "\u001b[34msrc\u001b[m\u001b[m\r\n"
     ]
    }
   ],
   "source": [
    "# Make sure the credentials file are no longer in the repo folder...\n",
    "!ls -a"
   ]
  },
  {
   "cell_type": "code",
   "execution_count": 26,
   "metadata": {
    "hidden": true
   },
   "outputs": [
    {
     "name": "stdout",
     "output_type": "stream",
     "text": [
      "\u001b[34m.\u001b[m\u001b[m          \u001b[34m..\u001b[m\u001b[m         creds.json\r\n"
     ]
    }
   ],
   "source": [
    "# .. and the file should now be in .secrets/\n",
    "!ls -a .secrets/"
   ]
  },
  {
   "cell_type": "markdown",
   "metadata": {
    "heading_collapsed": true,
    "hidden": true
   },
   "source": [
    "### Step 3 - Add the `.secrets/` folder to the `.gitignore` file"
   ]
  },
  {
   "cell_type": "markdown",
   "metadata": {
    "hidden": true
   },
   "source": [
    "> We actually already did this in the current `.gitignore`! But it's good to remember to do this with future projects"
   ]
  },
  {
   "cell_type": "code",
   "execution_count": 28,
   "metadata": {
    "hidden": true,
    "scrolled": true
   },
   "outputs": [
    {
     "name": "stdout",
     "output_type": "stream",
     "text": [
      "cython_debug/\r\n",
      "\r\n",
      "# PyCharm\r\n",
      "#  JetBrains specific template is maintained in a separate JetBrains.gitignore that can\r\n",
      "#  be found at https://github.com/github/gitignore/blob/main/Global/JetBrains.gitignore\r\n",
      "#  and can be added to the global gitignore or merged into this file.  For a more nuclear\r\n",
      "#  option (not recommended) you can uncomment the following to ignore the entire idea folder.\r\n",
      "#.idea/\r\n",
      "\r\n",
      ".DS_Store"
     ]
    }
   ],
   "source": [
    "# View current .gitignore\n",
    "!tail ../../.gitignore"
   ]
  },
  {
   "cell_type": "markdown",
   "metadata": {
    "hidden": true
   },
   "source": [
    "To add that line to the `.gitignore` file, we can open it in an editor (just remember the file is hidden) or just append to the end of the file like so:"
   ]
  },
  {
   "cell_type": "markdown",
   "metadata": {
    "hidden": true
   },
   "source": [
    "```bash\n",
    "echo \".secrets/\" >> .gitignore\n",
    "```"
   ]
  },
  {
   "cell_type": "markdown",
   "metadata": {
    "heading_collapsed": true,
    "hidden": true
   },
   "source": [
    "### Check If It Worked!"
   ]
  },
  {
   "cell_type": "code",
   "execution_count": 29,
   "metadata": {
    "hidden": true
   },
   "outputs": [],
   "source": [
    "with open('.secrets/creds.json') as f:\n",
    "    creds = json.load(f)"
   ]
  },
  {
   "cell_type": "markdown",
   "metadata": {
    "heading_collapsed": true,
    "hidden": true
   },
   "source": [
    "## Making our Request"
   ]
  },
  {
   "cell_type": "markdown",
   "metadata": {
    "hidden": true
   },
   "source": [
    "[Yelp API Documentation](https://www.yelp.com/developers/documentation/v3/get_started)\n",
    "\n",
    "Let's look at an example request and dissect it into its consituent parts:"
   ]
  },
  {
   "cell_type": "code",
   "execution_count": 33,
   "metadata": {
    "hidden": true
   },
   "outputs": [
    {
     "name": "stdout",
     "output_type": "stream",
     "text": [
      "200\n"
     ]
    }
   ],
   "source": [
    "url = 'https://api.yelp.com/v3/businesses/search'\n",
    "term = 'Hamburgers'\n",
    "SEARCH_LIMIT = 10\n",
    "headers = {\n",
    "    'Authorization': 'Bearer ' + creds['key']\n",
    "}\n",
    "\n",
    "url_params = {\n",
    "    'term': term,\n",
    "    'location': 'Seattle+WA',\n",
    "    'limit': SEARCH_LIMIT,\n",
    "    'offset': 0\n",
    "}\n",
    "response = requests.get(url, headers=headers, params=url_params)\n",
    "print(response.status_code)"
   ]
  },
  {
   "cell_type": "markdown",
   "metadata": {
    "heading_collapsed": true,
    "hidden": true
   },
   "source": [
    "## Breaking Down the Request"
   ]
  },
  {
   "cell_type": "markdown",
   "metadata": {
    "hidden": true
   },
   "source": [
    "As you can see, there are three main parts to our request.  \n",
    "  \n",
    "They are:\n",
    "* The URL\n",
    "* The header\n",
    "* The parameters\n",
    "  \n",
    "The URL is found in the documentation (`https://api.yelp.com/v3`) and we are using the Business Search endpoint (`/businesses/search`).\n",
    "\n",
    "The header is required by the Yelp API for authorization. It has a strict form where 'Authorization' is the key and 'Bearer YourApiKey' is the value. We make a `header` dictionary to pass into our `.get()` method.\n",
    "\n",
    "The parameters contain information we pass into the query to get the data we want. Valid key parameters by which to structure your queries, are described in the [Yelp API Documentation](https://www.yelp.com/developers/documentation/v3/get_started). We make a `url_params` dictionary to pass into our `.get()` method, which then adds the query parameters to the URL.\n",
    "\n",
    "**Important note re: parameters**: We need to replace spaces with \"+\" - this is a common API requirement because URLs cannot contain spaces. (Note that the header itself isn't directly added into the URL itself and as such, the space between 'Bearer' and YourApiKey is fine.)"
   ]
  },
  {
   "cell_type": "markdown",
   "metadata": {
    "heading_collapsed": true,
    "hidden": true
   },
   "source": [
    "## The Response"
   ]
  },
  {
   "cell_type": "markdown",
   "metadata": {
    "hidden": true
   },
   "source": [
    "As before, our response object has both a status code, as well as the data itself. With that, let's start with a little data exploration!"
   ]
  },
  {
   "cell_type": "code",
   "execution_count": 35,
   "metadata": {
    "hidden": true
   },
   "outputs": [],
   "source": [
    "bus_dict = response.json()"
   ]
  },
  {
   "cell_type": "code",
   "execution_count": 36,
   "metadata": {
    "hidden": true
   },
   "outputs": [
    {
     "data": {
      "text/plain": [
       "dict_keys(['businesses', 'total', 'region'])"
      ]
     },
     "execution_count": 36,
     "metadata": {},
     "output_type": "execute_result"
    }
   ],
   "source": [
    "## Your code here\n",
    "bus_dict.keys()"
   ]
  },
  {
   "cell_type": "code",
   "execution_count": 38,
   "metadata": {},
   "outputs": [
    {
     "data": {
      "text/plain": [
       "[{'id': '9fC3l9DdmPx3hEydsQ0wQw',\n",
       "  'alias': 'burbs-burgers-ballard-seattle',\n",
       "  'name': \"Burb's Burgers Ballard\",\n",
       "  'image_url': 'https://s3-media3.fl.yelpcdn.com/bphoto/6IQsqrNVNut6pBHusrjZsw/o.jpg',\n",
       "  'is_closed': False,\n",
       "  'url': 'https://www.yelp.com/biz/burbs-burgers-ballard-seattle?adjust_creative=g0c-y7BAReLv0wMtT9JGzA&utm_campaign=yelp_api_v3&utm_medium=api_v3_business_search&utm_source=g0c-y7BAReLv0wMtT9JGzA',\n",
       "  'review_count': 27,\n",
       "  'categories': [{'alias': 'burgers', 'title': 'Burgers'}],\n",
       "  'rating': 4.5,\n",
       "  'coordinates': {'latitude': 47.66591, 'longitude': -122.37389},\n",
       "  'transactions': [],\n",
       "  'location': {'address1': '5101 14th Ave NW',\n",
       "   'address2': 'Ste 101',\n",
       "   'address3': '',\n",
       "   'city': 'Seattle',\n",
       "   'zip_code': '98107',\n",
       "   'country': 'US',\n",
       "   'state': 'WA',\n",
       "   'display_address': ['5101 14th Ave NW', 'Ste 101', 'Seattle, WA 98107']},\n",
       "  'phone': '+12064203015',\n",
       "  'display_phone': '(206) 420-3015',\n",
       "  'distance': 6620.873874801281},\n",
       " {'id': 'smOVPL87Q0XHACrVMPa8qw',\n",
       "  'alias': '8oz-burger-and-co-seattle',\n",
       "  'name': '8oz Burger & Co',\n",
       "  'image_url': 'https://s3-media3.fl.yelpcdn.com/bphoto/VCmTcI_R9UJSx4o9zqa9cw/o.jpg',\n",
       "  'is_closed': False,\n",
       "  'url': 'https://www.yelp.com/biz/8oz-burger-and-co-seattle?adjust_creative=g0c-y7BAReLv0wMtT9JGzA&utm_campaign=yelp_api_v3&utm_medium=api_v3_business_search&utm_source=g0c-y7BAReLv0wMtT9JGzA',\n",
       "  'review_count': 1769,\n",
       "  'categories': [{'alias': 'burgers', 'title': 'Burgers'},\n",
       "   {'alias': 'whiskeybars', 'title': 'Whiskey Bars'},\n",
       "   {'alias': 'cocktailbars', 'title': 'Cocktail Bars'}],\n",
       "  'rating': 4.0,\n",
       "  'coordinates': {'latitude': 47.61320990365378,\n",
       "   'longitude': -122.32105000357508},\n",
       "  'transactions': ['delivery', 'pickup'],\n",
       "  'price': '$$',\n",
       "  'location': {'address1': '1401 Broadway',\n",
       "   'address2': None,\n",
       "   'address3': '',\n",
       "   'city': 'Seattle',\n",
       "   'zip_code': '98122',\n",
       "   'country': 'US',\n",
       "   'state': 'WA',\n",
       "   'display_address': ['1401 Broadway', 'Seattle, WA 98122']},\n",
       "  'phone': '+12064665989',\n",
       "  'display_phone': '(206) 466-5989',\n",
       "  'distance': 683.2283710900906},\n",
       " {'id': 'xcZZ0Gm81bl8xQfvws231A',\n",
       "  'alias': 'uneeda-burger-seattle',\n",
       "  'name': 'Uneeda Burger',\n",
       "  'image_url': 'https://s3-media4.fl.yelpcdn.com/bphoto/QA76Bw2Alk_y9d2mC8khLQ/o.jpg',\n",
       "  'is_closed': False,\n",
       "  'url': 'https://www.yelp.com/biz/uneeda-burger-seattle?adjust_creative=g0c-y7BAReLv0wMtT9JGzA&utm_campaign=yelp_api_v3&utm_medium=api_v3_business_search&utm_source=g0c-y7BAReLv0wMtT9JGzA',\n",
       "  'review_count': 1403,\n",
       "  'categories': [{'alias': 'burgers', 'title': 'Burgers'},\n",
       "   {'alias': 'sandwiches', 'title': 'Sandwiches'}],\n",
       "  'rating': 4.0,\n",
       "  'coordinates': {'latitude': 47.65952, 'longitude': -122.34976},\n",
       "  'transactions': ['delivery', 'pickup'],\n",
       "  'price': '$$',\n",
       "  'location': {'address1': '4302 Fremont Ave N',\n",
       "   'address2': '',\n",
       "   'address3': '',\n",
       "   'city': 'Seattle',\n",
       "   'zip_code': '98103',\n",
       "   'country': 'US',\n",
       "   'state': 'WA',\n",
       "   'display_address': ['4302 Fremont Ave N', 'Seattle, WA 98103']},\n",
       "  'phone': '+12065472600',\n",
       "  'display_phone': '(206) 547-2600',\n",
       "  'distance': 5231.147777047549},\n",
       " {'id': 'Lw7NmZ3j-WEye97ywEmkXQ',\n",
       "  'alias': 'vons-1000-spirits-seattle-4',\n",
       "  'name': \"Von's 1000 Spirits\",\n",
       "  'image_url': 'https://s3-media4.fl.yelpcdn.com/bphoto/0d7S1ayLosZkOAN1HHNyWA/o.jpg',\n",
       "  'is_closed': False,\n",
       "  'url': 'https://www.yelp.com/biz/vons-1000-spirits-seattle-4?adjust_creative=g0c-y7BAReLv0wMtT9JGzA&utm_campaign=yelp_api_v3&utm_medium=api_v3_business_search&utm_source=g0c-y7BAReLv0wMtT9JGzA',\n",
       "  'review_count': 2752,\n",
       "  'categories': [{'alias': 'newamerican', 'title': 'American (New)'},\n",
       "   {'alias': 'burgers', 'title': 'Burgers'},\n",
       "   {'alias': 'pubs', 'title': 'Pubs'}],\n",
       "  'rating': 4.5,\n",
       "  'coordinates': {'latitude': 47.606565, 'longitude': -122.338337},\n",
       "  'transactions': ['delivery', 'pickup'],\n",
       "  'price': '$$',\n",
       "  'location': {'address1': '1225 1st Ave',\n",
       "   'address2': '',\n",
       "   'address3': '',\n",
       "   'city': 'Seattle',\n",
       "   'zip_code': '98101',\n",
       "   'country': 'US',\n",
       "   'state': 'WA',\n",
       "   'display_address': ['1225 1st Ave', 'Seattle, WA 98101']},\n",
       "  'phone': '+12066218667',\n",
       "  'display_phone': '(206) 621-8667',\n",
       "  'distance': 1063.430108315428},\n",
       " {'id': 'x8BFKHu7ajvXLOA0_33bbg',\n",
       "  'alias': 'old-stove-brewing-seattle-3',\n",
       "  'name': 'Old Stove Brewing',\n",
       "  'image_url': 'https://s3-media2.fl.yelpcdn.com/bphoto/XcgI5mDGRtQO6QFLBYqJfA/o.jpg',\n",
       "  'is_closed': False,\n",
       "  'url': 'https://www.yelp.com/biz/old-stove-brewing-seattle-3?adjust_creative=g0c-y7BAReLv0wMtT9JGzA&utm_campaign=yelp_api_v3&utm_medium=api_v3_business_search&utm_source=g0c-y7BAReLv0wMtT9JGzA',\n",
       "  'review_count': 1021,\n",
       "  'categories': [{'alias': 'brewpubs', 'title': 'Brewpubs'},\n",
       "   {'alias': 'seafood', 'title': 'Seafood'},\n",
       "   {'alias': 'burgers', 'title': 'Burgers'}],\n",
       "  'rating': 4.5,\n",
       "  'coordinates': {'latitude': 47.60947174117716,\n",
       "   'longitude': -122.34255894939054},\n",
       "  'transactions': ['delivery'],\n",
       "  'price': '$$',\n",
       "  'location': {'address1': '1901 Western Ave',\n",
       "   'address2': 'Ste A',\n",
       "   'address3': None,\n",
       "   'city': 'Seattle',\n",
       "   'zip_code': '98101',\n",
       "   'country': 'US',\n",
       "   'state': 'WA',\n",
       "   'display_address': ['1901 Western Ave', 'Ste A', 'Seattle, WA 98101']},\n",
       "  'phone': '+12066026120',\n",
       "  'display_phone': '(206) 602-6120',\n",
       "  'distance': 1083.2691670277702},\n",
       " {'id': 'VSWKoV1zTtjyEXAFJwdeHA',\n",
       "  'alias': 'lil-woodys-seattle',\n",
       "  'name': \"Li'l Woody's\",\n",
       "  'image_url': 'https://s3-media4.fl.yelpcdn.com/bphoto/yOo7a3gEyshNkIiF7Z7znQ/o.jpg',\n",
       "  'is_closed': False,\n",
       "  'url': 'https://www.yelp.com/biz/lil-woodys-seattle?adjust_creative=g0c-y7BAReLv0wMtT9JGzA&utm_campaign=yelp_api_v3&utm_medium=api_v3_business_search&utm_source=g0c-y7BAReLv0wMtT9JGzA',\n",
       "  'review_count': 1013,\n",
       "  'categories': [{'alias': 'burgers', 'title': 'Burgers'},\n",
       "   {'alias': 'juicebars', 'title': 'Juice Bars & Smoothies'},\n",
       "   {'alias': 'hotdogs', 'title': 'Fast Food'}],\n",
       "  'rating': 3.5,\n",
       "  'coordinates': {'latitude': 47.61495, 'longitude': -122.32818},\n",
       "  'transactions': ['delivery', 'pickup'],\n",
       "  'price': '$$',\n",
       "  'location': {'address1': '1211 Pine St',\n",
       "   'address2': None,\n",
       "   'address3': '',\n",
       "   'city': 'Seattle',\n",
       "   'zip_code': '98101',\n",
       "   'country': 'US',\n",
       "   'state': 'WA',\n",
       "   'display_address': ['1211 Pine St', 'Seattle, WA 98101']},\n",
       "  'phone': '+12064574148',\n",
       "  'display_phone': '(206) 457-4148',\n",
       "  'distance': 155.26423451620636},\n",
       " {'id': 'aSh2Nz2WoQn6m8g256OxcA',\n",
       "  'alias': 'red-mill-burgers-seattle',\n",
       "  'name': 'Red Mill Burgers',\n",
       "  'image_url': 'https://s3-media2.fl.yelpcdn.com/bphoto/kX9ZsnN8k0MNLsWwJqsAzA/o.jpg',\n",
       "  'is_closed': False,\n",
       "  'url': 'https://www.yelp.com/biz/red-mill-burgers-seattle?adjust_creative=g0c-y7BAReLv0wMtT9JGzA&utm_campaign=yelp_api_v3&utm_medium=api_v3_business_search&utm_source=g0c-y7BAReLv0wMtT9JGzA',\n",
       "  'review_count': 1422,\n",
       "  'categories': [{'alias': 'burgers', 'title': 'Burgers'}],\n",
       "  'rating': 4.0,\n",
       "  'coordinates': {'latitude': 47.677847002847, 'longitude': -122.35471520758},\n",
       "  'transactions': ['delivery'],\n",
       "  'price': '$$',\n",
       "  'location': {'address1': '312 N 67th St',\n",
       "   'address2': '',\n",
       "   'address3': '',\n",
       "   'city': 'Seattle',\n",
       "   'zip_code': '98103',\n",
       "   'country': 'US',\n",
       "   'state': 'WA',\n",
       "   'display_address': ['312 N 67th St', 'Seattle, WA 98103']},\n",
       "  'phone': '+12067836362',\n",
       "  'display_phone': '(206) 783-6362',\n",
       "  'distance': 7303.114363979403},\n",
       " {'id': 'UzaMrsDMM7xmxtWLPTrmKw',\n",
       "  'alias': 'shaker-spear-seattle-2',\n",
       "  'name': 'Shaker + Spear',\n",
       "  'image_url': 'https://s3-media1.fl.yelpcdn.com/bphoto/01X7O_8_ArJ7Va2tG1aAdg/o.jpg',\n",
       "  'is_closed': False,\n",
       "  'url': 'https://www.yelp.com/biz/shaker-spear-seattle-2?adjust_creative=g0c-y7BAReLv0wMtT9JGzA&utm_campaign=yelp_api_v3&utm_medium=api_v3_business_search&utm_source=g0c-y7BAReLv0wMtT9JGzA',\n",
       "  'review_count': 1014,\n",
       "  'categories': [{'alias': 'seafood', 'title': 'Seafood'},\n",
       "   {'alias': 'newamerican', 'title': 'American (New)'},\n",
       "   {'alias': 'breakfast_brunch', 'title': 'Breakfast & Brunch'}],\n",
       "  'rating': 4.5,\n",
       "  'coordinates': {'latitude': 47.61203, 'longitude': -122.34165},\n",
       "  'transactions': ['delivery', 'pickup'],\n",
       "  'price': '$$',\n",
       "  'location': {'address1': '2000 2nd Ave',\n",
       "   'address2': None,\n",
       "   'address3': None,\n",
       "   'city': 'Seattle',\n",
       "   'zip_code': '98121',\n",
       "   'country': 'US',\n",
       "   'state': 'WA',\n",
       "   'display_address': ['2000 2nd Ave', 'Seattle, WA 98121']},\n",
       "  'phone': '+12068261700',\n",
       "  'display_phone': '(206) 826-1700',\n",
       "  'distance': 908.3409801835843},\n",
       " {'id': 'VFUabHvfP4_WM2Uu5RqVVg',\n",
       "  'alias': 'fat-shack-seattle-4',\n",
       "  'name': 'Fat Shack',\n",
       "  'image_url': 'https://s3-media4.fl.yelpcdn.com/bphoto/j9dNuXEN2dL-2u9oYvizow/o.jpg',\n",
       "  'is_closed': False,\n",
       "  'url': 'https://www.yelp.com/biz/fat-shack-seattle-4?adjust_creative=g0c-y7BAReLv0wMtT9JGzA&utm_campaign=yelp_api_v3&utm_medium=api_v3_business_search&utm_source=g0c-y7BAReLv0wMtT9JGzA',\n",
       "  'review_count': 31,\n",
       "  'categories': [{'alias': 'sandwiches', 'title': 'Sandwiches'},\n",
       "   {'alias': 'burgers', 'title': 'Burgers'},\n",
       "   {'alias': 'chicken_wings', 'title': 'Chicken Wings'}],\n",
       "  'rating': 4.0,\n",
       "  'coordinates': {'latitude': 47.59932973457293,\n",
       "   'longitude': -122.3313512294478},\n",
       "  'transactions': ['delivery', 'pickup'],\n",
       "  'price': '$$',\n",
       "  'location': {'address1': '200 S Jackson St',\n",
       "   'address2': None,\n",
       "   'address3': '',\n",
       "   'city': 'Seattle',\n",
       "   'zip_code': '98104',\n",
       "   'country': 'US',\n",
       "   'state': 'WA',\n",
       "   'display_address': ['200 S Jackson St', 'Seattle, WA 98104']},\n",
       "  'phone': '+12066821139',\n",
       "  'display_phone': '(206) 682-1139',\n",
       "  'distance': 1668.8542703723053},\n",
       " {'id': 'njrf1anUeFcFSLz-MeMEvQ',\n",
       "  'alias': 'twice-burger-seattle-3',\n",
       "  'name': 'Twice Burger',\n",
       "  'image_url': 'https://s3-media3.fl.yelpcdn.com/bphoto/ZtrEhhzA_Zo6UCJKyO8dpA/o.jpg',\n",
       "  'is_closed': False,\n",
       "  'url': 'https://www.yelp.com/biz/twice-burger-seattle-3?adjust_creative=g0c-y7BAReLv0wMtT9JGzA&utm_campaign=yelp_api_v3&utm_medium=api_v3_business_search&utm_source=g0c-y7BAReLv0wMtT9JGzA',\n",
       "  'review_count': 38,\n",
       "  'categories': [{'alias': 'burgers', 'title': 'Burgers'},\n",
       "   {'alias': 'breakfast_brunch', 'title': 'Breakfast & Brunch'}],\n",
       "  'rating': 4.5,\n",
       "  'coordinates': {'latitude': 47.6045299, 'longitude': -122.33061},\n",
       "  'transactions': ['delivery', 'pickup'],\n",
       "  'location': {'address1': '701 5th Ave',\n",
       "   'address2': None,\n",
       "   'address3': None,\n",
       "   'city': 'Seattle',\n",
       "   'zip_code': '98104',\n",
       "   'country': 'US',\n",
       "   'state': 'WA',\n",
       "   'display_address': ['701 5th Ave', 'Seattle, WA 98104']},\n",
       "  'phone': '+12066235282',\n",
       "  'display_phone': '(206) 623-5282',\n",
       "  'distance': 1090.2876093842638}]"
      ]
     },
     "execution_count": 38,
     "metadata": {},
     "output_type": "execute_result"
    }
   ],
   "source": [
    "bus_dict['businesses']"
   ]
  },
  {
   "cell_type": "markdown",
   "metadata": {
    "hidden": true
   },
   "source": [
    "**Activity**: Make a DataFrame `yelp_df` with the business data from the Yelp response.\n",
    "<details>\n",
    "    <summary>\n",
    "        Answer code\n",
    "    </summary>\n",
    "\n",
    "```python\n",
    "yelp_data = response.json()\n",
    "yelp_df = pd.DataFrame(yelp_data['businesses'])\n",
    "```\n",
    "</details>"
   ]
  },
  {
   "cell_type": "code",
   "execution_count": 39,
   "metadata": {},
   "outputs": [],
   "source": [
    "yelp_df = pd.DataFrame(bus_dict['businesses'])"
   ]
  },
  {
   "cell_type": "code",
   "execution_count": 40,
   "metadata": {
    "hidden": true
   },
   "outputs": [
    {
     "data": {
      "text/html": [
       "<div>\n",
       "<style scoped>\n",
       "    .dataframe tbody tr th:only-of-type {\n",
       "        vertical-align: middle;\n",
       "    }\n",
       "\n",
       "    .dataframe tbody tr th {\n",
       "        vertical-align: top;\n",
       "    }\n",
       "\n",
       "    .dataframe thead th {\n",
       "        text-align: right;\n",
       "    }\n",
       "</style>\n",
       "<table border=\"1\" class=\"dataframe\">\n",
       "  <thead>\n",
       "    <tr style=\"text-align: right;\">\n",
       "      <th></th>\n",
       "      <th>id</th>\n",
       "      <th>alias</th>\n",
       "      <th>name</th>\n",
       "      <th>image_url</th>\n",
       "      <th>is_closed</th>\n",
       "      <th>url</th>\n",
       "      <th>review_count</th>\n",
       "      <th>categories</th>\n",
       "      <th>rating</th>\n",
       "      <th>coordinates</th>\n",
       "      <th>transactions</th>\n",
       "      <th>location</th>\n",
       "      <th>phone</th>\n",
       "      <th>display_phone</th>\n",
       "      <th>distance</th>\n",
       "      <th>price</th>\n",
       "    </tr>\n",
       "  </thead>\n",
       "  <tbody>\n",
       "    <tr>\n",
       "      <th>0</th>\n",
       "      <td>9fC3l9DdmPx3hEydsQ0wQw</td>\n",
       "      <td>burbs-burgers-ballard-seattle</td>\n",
       "      <td>Burb's Burgers Ballard</td>\n",
       "      <td>https://s3-media3.fl.yelpcdn.com/bphoto/6IQsqr...</td>\n",
       "      <td>False</td>\n",
       "      <td>https://www.yelp.com/biz/burbs-burgers-ballard...</td>\n",
       "      <td>27</td>\n",
       "      <td>[{'alias': 'burgers', 'title': 'Burgers'}]</td>\n",
       "      <td>4.5</td>\n",
       "      <td>{'latitude': 47.66591, 'longitude': -122.37389}</td>\n",
       "      <td>[]</td>\n",
       "      <td>{'address1': '5101 14th Ave NW', 'address2': '...</td>\n",
       "      <td>+12064203015</td>\n",
       "      <td>(206) 420-3015</td>\n",
       "      <td>6620.873875</td>\n",
       "      <td>NaN</td>\n",
       "    </tr>\n",
       "    <tr>\n",
       "      <th>1</th>\n",
       "      <td>smOVPL87Q0XHACrVMPa8qw</td>\n",
       "      <td>8oz-burger-and-co-seattle</td>\n",
       "      <td>8oz Burger &amp; Co</td>\n",
       "      <td>https://s3-media3.fl.yelpcdn.com/bphoto/VCmTcI...</td>\n",
       "      <td>False</td>\n",
       "      <td>https://www.yelp.com/biz/8oz-burger-and-co-sea...</td>\n",
       "      <td>1769</td>\n",
       "      <td>[{'alias': 'burgers', 'title': 'Burgers'}, {'a...</td>\n",
       "      <td>4.0</td>\n",
       "      <td>{'latitude': 47.61320990365378, 'longitude': -...</td>\n",
       "      <td>[delivery, pickup]</td>\n",
       "      <td>{'address1': '1401 Broadway', 'address2': None...</td>\n",
       "      <td>+12064665989</td>\n",
       "      <td>(206) 466-5989</td>\n",
       "      <td>683.228371</td>\n",
       "      <td>$$</td>\n",
       "    </tr>\n",
       "    <tr>\n",
       "      <th>2</th>\n",
       "      <td>xcZZ0Gm81bl8xQfvws231A</td>\n",
       "      <td>uneeda-burger-seattle</td>\n",
       "      <td>Uneeda Burger</td>\n",
       "      <td>https://s3-media4.fl.yelpcdn.com/bphoto/QA76Bw...</td>\n",
       "      <td>False</td>\n",
       "      <td>https://www.yelp.com/biz/uneeda-burger-seattle...</td>\n",
       "      <td>1403</td>\n",
       "      <td>[{'alias': 'burgers', 'title': 'Burgers'}, {'a...</td>\n",
       "      <td>4.0</td>\n",
       "      <td>{'latitude': 47.65952, 'longitude': -122.34976}</td>\n",
       "      <td>[delivery, pickup]</td>\n",
       "      <td>{'address1': '4302 Fremont Ave N', 'address2':...</td>\n",
       "      <td>+12065472600</td>\n",
       "      <td>(206) 547-2600</td>\n",
       "      <td>5231.147777</td>\n",
       "      <td>$$</td>\n",
       "    </tr>\n",
       "    <tr>\n",
       "      <th>3</th>\n",
       "      <td>Lw7NmZ3j-WEye97ywEmkXQ</td>\n",
       "      <td>vons-1000-spirits-seattle-4</td>\n",
       "      <td>Von's 1000 Spirits</td>\n",
       "      <td>https://s3-media4.fl.yelpcdn.com/bphoto/0d7S1a...</td>\n",
       "      <td>False</td>\n",
       "      <td>https://www.yelp.com/biz/vons-1000-spirits-sea...</td>\n",
       "      <td>2752</td>\n",
       "      <td>[{'alias': 'newamerican', 'title': 'American (...</td>\n",
       "      <td>4.5</td>\n",
       "      <td>{'latitude': 47.606565, 'longitude': -122.338337}</td>\n",
       "      <td>[delivery, pickup]</td>\n",
       "      <td>{'address1': '1225 1st Ave', 'address2': '', '...</td>\n",
       "      <td>+12066218667</td>\n",
       "      <td>(206) 621-8667</td>\n",
       "      <td>1063.430108</td>\n",
       "      <td>$$</td>\n",
       "    </tr>\n",
       "    <tr>\n",
       "      <th>4</th>\n",
       "      <td>x8BFKHu7ajvXLOA0_33bbg</td>\n",
       "      <td>old-stove-brewing-seattle-3</td>\n",
       "      <td>Old Stove Brewing</td>\n",
       "      <td>https://s3-media2.fl.yelpcdn.com/bphoto/XcgI5m...</td>\n",
       "      <td>False</td>\n",
       "      <td>https://www.yelp.com/biz/old-stove-brewing-sea...</td>\n",
       "      <td>1021</td>\n",
       "      <td>[{'alias': 'brewpubs', 'title': 'Brewpubs'}, {...</td>\n",
       "      <td>4.5</td>\n",
       "      <td>{'latitude': 47.60947174117716, 'longitude': -...</td>\n",
       "      <td>[delivery]</td>\n",
       "      <td>{'address1': '1901 Western Ave', 'address2': '...</td>\n",
       "      <td>+12066026120</td>\n",
       "      <td>(206) 602-6120</td>\n",
       "      <td>1083.269167</td>\n",
       "      <td>$$</td>\n",
       "    </tr>\n",
       "  </tbody>\n",
       "</table>\n",
       "</div>"
      ],
      "text/plain": [
       "                       id                          alias  \\\n",
       "0  9fC3l9DdmPx3hEydsQ0wQw  burbs-burgers-ballard-seattle   \n",
       "1  smOVPL87Q0XHACrVMPa8qw      8oz-burger-and-co-seattle   \n",
       "2  xcZZ0Gm81bl8xQfvws231A          uneeda-burger-seattle   \n",
       "3  Lw7NmZ3j-WEye97ywEmkXQ    vons-1000-spirits-seattle-4   \n",
       "4  x8BFKHu7ajvXLOA0_33bbg    old-stove-brewing-seattle-3   \n",
       "\n",
       "                     name                                          image_url  \\\n",
       "0  Burb's Burgers Ballard  https://s3-media3.fl.yelpcdn.com/bphoto/6IQsqr...   \n",
       "1         8oz Burger & Co  https://s3-media3.fl.yelpcdn.com/bphoto/VCmTcI...   \n",
       "2           Uneeda Burger  https://s3-media4.fl.yelpcdn.com/bphoto/QA76Bw...   \n",
       "3      Von's 1000 Spirits  https://s3-media4.fl.yelpcdn.com/bphoto/0d7S1a...   \n",
       "4       Old Stove Brewing  https://s3-media2.fl.yelpcdn.com/bphoto/XcgI5m...   \n",
       "\n",
       "   is_closed                                                url  review_count  \\\n",
       "0      False  https://www.yelp.com/biz/burbs-burgers-ballard...            27   \n",
       "1      False  https://www.yelp.com/biz/8oz-burger-and-co-sea...          1769   \n",
       "2      False  https://www.yelp.com/biz/uneeda-burger-seattle...          1403   \n",
       "3      False  https://www.yelp.com/biz/vons-1000-spirits-sea...          2752   \n",
       "4      False  https://www.yelp.com/biz/old-stove-brewing-sea...          1021   \n",
       "\n",
       "                                          categories  rating  \\\n",
       "0         [{'alias': 'burgers', 'title': 'Burgers'}]     4.5   \n",
       "1  [{'alias': 'burgers', 'title': 'Burgers'}, {'a...     4.0   \n",
       "2  [{'alias': 'burgers', 'title': 'Burgers'}, {'a...     4.0   \n",
       "3  [{'alias': 'newamerican', 'title': 'American (...     4.5   \n",
       "4  [{'alias': 'brewpubs', 'title': 'Brewpubs'}, {...     4.5   \n",
       "\n",
       "                                         coordinates        transactions  \\\n",
       "0    {'latitude': 47.66591, 'longitude': -122.37389}                  []   \n",
       "1  {'latitude': 47.61320990365378, 'longitude': -...  [delivery, pickup]   \n",
       "2    {'latitude': 47.65952, 'longitude': -122.34976}  [delivery, pickup]   \n",
       "3  {'latitude': 47.606565, 'longitude': -122.338337}  [delivery, pickup]   \n",
       "4  {'latitude': 47.60947174117716, 'longitude': -...          [delivery]   \n",
       "\n",
       "                                            location         phone  \\\n",
       "0  {'address1': '5101 14th Ave NW', 'address2': '...  +12064203015   \n",
       "1  {'address1': '1401 Broadway', 'address2': None...  +12064665989   \n",
       "2  {'address1': '4302 Fremont Ave N', 'address2':...  +12065472600   \n",
       "3  {'address1': '1225 1st Ave', 'address2': '', '...  +12066218667   \n",
       "4  {'address1': '1901 Western Ave', 'address2': '...  +12066026120   \n",
       "\n",
       "    display_phone     distance price  \n",
       "0  (206) 420-3015  6620.873875   NaN  \n",
       "1  (206) 466-5989   683.228371    $$  \n",
       "2  (206) 547-2600  5231.147777    $$  \n",
       "3  (206) 621-8667  1063.430108    $$  \n",
       "4  (206) 602-6120  1083.269167    $$  "
      ]
     },
     "execution_count": 40,
     "metadata": {},
     "output_type": "execute_result"
    }
   ],
   "source": [
    "yelp_df.head()"
   ]
  },
  {
   "cell_type": "code",
   "execution_count": null,
   "metadata": {
    "hidden": true
   },
   "outputs": [],
   "source": [
    "## Your code here\n"
   ]
  },
  {
   "cell_type": "markdown",
   "metadata": {
    "hidden": true
   },
   "source": [
    "**Activity**: Add columns to `yelp_df` containing the latitudes and longitudes.\n",
    "\n",
    "\n",
    "<details>\n",
    "    <summary>\n",
    "        Answer code\n",
    "    </summary>\n",
    "\n",
    "```python\n",
    "lat = [float(business['coordinates']['latitude']) for business in yelp_data['businesses']]\n",
    "long = [float(business['coordinates']['longitude']) for  business in yelp_data['businesses']]\n",
    "yelp_df['lat'] = lat\n",
    "yelp_df['long'] = long\n",
    "```\n",
    "</details>"
   ]
  },
  {
   "cell_type": "code",
   "execution_count": null,
   "metadata": {
    "hidden": true
   },
   "outputs": [],
   "source": [
    "yelp_df.head()"
   ]
  }
 ],
 "metadata": {
  "kernelspec": {
   "display_name": "Python (learn-env)",
   "language": "python",
   "name": "learn-env"
  },
  "language_info": {
   "codemirror_mode": {
    "name": "ipython",
    "version": 3
   },
   "file_extension": ".py",
   "mimetype": "text/x-python",
   "name": "python",
   "nbconvert_exporter": "python",
   "pygments_lexer": "ipython3",
   "version": "3.8.5"
  },
  "toc": {
   "base_numbering": 1,
   "nav_menu": {},
   "number_sections": true,
   "sideBar": true,
   "skip_h1_title": false,
   "title_cell": "Table of Contents",
   "title_sidebar": "Contents",
   "toc_cell": true,
   "toc_position": {
    "height": "calc(100% - 180px)",
    "left": "10px",
    "top": "150px",
    "width": "384px"
   },
   "toc_section_display": true,
   "toc_window_display": true
  }
 },
 "nbformat": 4,
 "nbformat_minor": 4
}
